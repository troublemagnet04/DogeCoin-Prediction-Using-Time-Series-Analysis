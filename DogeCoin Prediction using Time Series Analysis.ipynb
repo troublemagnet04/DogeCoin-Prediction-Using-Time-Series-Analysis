{
 "cells": [
  {
   "cell_type": "markdown",
   "id": "43ab395c",
   "metadata": {},
   "source": [
    "# DogeCoin Prediction Using Time Series Analysis"
   ]
  },
  {
   "cell_type": "code",
   "execution_count": 1,
   "id": "8347b403",
   "metadata": {},
   "outputs": [],
   "source": [
    "import pandas as pd\n",
    "import numpy as np\n",
    "import matplotlib.pyplot as plt\n",
    "import seaborn as sns\n",
    "from sklearn.ensemble import RandomForestRegressor\n",
    "\n",
    "import warnings\n",
    "warnings.filterwarnings(\"ignore\")"
   ]
  },
  {
   "cell_type": "code",
   "execution_count": 2,
   "id": "39ac5f2b",
   "metadata": {},
   "outputs": [],
   "source": [
    "data = pd.read_csv(\"DOGE-USD.csv\")\n"
   ]
  },
  {
   "cell_type": "code",
   "execution_count": 3,
   "id": "03504ab0",
   "metadata": {},
   "outputs": [
    {
     "data": {
      "text/html": [
       "<div>\n",
       "<style scoped>\n",
       "    .dataframe tbody tr th:only-of-type {\n",
       "        vertical-align: middle;\n",
       "    }\n",
       "\n",
       "    .dataframe tbody tr th {\n",
       "        vertical-align: top;\n",
       "    }\n",
       "\n",
       "    .dataframe thead th {\n",
       "        text-align: right;\n",
       "    }\n",
       "</style>\n",
       "<table border=\"1\" class=\"dataframe\">\n",
       "  <thead>\n",
       "    <tr style=\"text-align: right;\">\n",
       "      <th></th>\n",
       "      <th>Date</th>\n",
       "      <th>Open</th>\n",
       "      <th>High</th>\n",
       "      <th>Low</th>\n",
       "      <th>Close</th>\n",
       "      <th>Volume</th>\n",
       "    </tr>\n",
       "  </thead>\n",
       "  <tbody>\n",
       "    <tr>\n",
       "      <th>0</th>\n",
       "      <td>2017-11-09</td>\n",
       "      <td>0.001207</td>\n",
       "      <td>0.001415</td>\n",
       "      <td>0.001181</td>\n",
       "      <td>0.001415</td>\n",
       "      <td>6259550</td>\n",
       "    </tr>\n",
       "    <tr>\n",
       "      <th>1</th>\n",
       "      <td>2017-11-10</td>\n",
       "      <td>0.001421</td>\n",
       "      <td>0.001431</td>\n",
       "      <td>0.001125</td>\n",
       "      <td>0.001163</td>\n",
       "      <td>4246520</td>\n",
       "    </tr>\n",
       "    <tr>\n",
       "      <th>2</th>\n",
       "      <td>2017-11-11</td>\n",
       "      <td>0.001146</td>\n",
       "      <td>0.001257</td>\n",
       "      <td>0.001141</td>\n",
       "      <td>0.001201</td>\n",
       "      <td>2231080</td>\n",
       "    </tr>\n",
       "    <tr>\n",
       "      <th>3</th>\n",
       "      <td>2017-11-12</td>\n",
       "      <td>0.001189</td>\n",
       "      <td>0.001210</td>\n",
       "      <td>0.001002</td>\n",
       "      <td>0.001038</td>\n",
       "      <td>3288960</td>\n",
       "    </tr>\n",
       "    <tr>\n",
       "      <th>4</th>\n",
       "      <td>2017-11-13</td>\n",
       "      <td>0.001046</td>\n",
       "      <td>0.001212</td>\n",
       "      <td>0.001019</td>\n",
       "      <td>0.001211</td>\n",
       "      <td>2481270</td>\n",
       "    </tr>\n",
       "  </tbody>\n",
       "</table>\n",
       "</div>"
      ],
      "text/plain": [
       "         Date      Open      High       Low     Close   Volume\n",
       "0  2017-11-09  0.001207  0.001415  0.001181  0.001415  6259550\n",
       "1  2017-11-10  0.001421  0.001431  0.001125  0.001163  4246520\n",
       "2  2017-11-11  0.001146  0.001257  0.001141  0.001201  2231080\n",
       "3  2017-11-12  0.001189  0.001210  0.001002  0.001038  3288960\n",
       "4  2017-11-13  0.001046  0.001212  0.001019  0.001211  2481270"
      ]
     },
     "execution_count": 3,
     "metadata": {},
     "output_type": "execute_result"
    }
   ],
   "source": [
    "data.head()"
   ]
  },
  {
   "cell_type": "code",
   "execution_count": 4,
   "id": "5a6d22cf",
   "metadata": {},
   "outputs": [
    {
     "data": {
      "text/html": [
       "<div>\n",
       "<style scoped>\n",
       "    .dataframe tbody tr th:only-of-type {\n",
       "        vertical-align: middle;\n",
       "    }\n",
       "\n",
       "    .dataframe tbody tr th {\n",
       "        vertical-align: top;\n",
       "    }\n",
       "\n",
       "    .dataframe thead th {\n",
       "        text-align: right;\n",
       "    }\n",
       "</style>\n",
       "<table border=\"1\" class=\"dataframe\">\n",
       "  <thead>\n",
       "    <tr style=\"text-align: right;\">\n",
       "      <th></th>\n",
       "      <th>Date</th>\n",
       "      <th>Open</th>\n",
       "      <th>High</th>\n",
       "      <th>Low</th>\n",
       "      <th>Close</th>\n",
       "      <th>Volume</th>\n",
       "    </tr>\n",
       "  </thead>\n",
       "  <tbody>\n",
       "    <tr>\n",
       "      <th>1527</th>\n",
       "      <td>2022-01-14</td>\n",
       "      <td>0.172053</td>\n",
       "      <td>0.203232</td>\n",
       "      <td>0.171283</td>\n",
       "      <td>0.183549</td>\n",
       "      <td>5784004926</td>\n",
       "    </tr>\n",
       "    <tr>\n",
       "      <th>1528</th>\n",
       "      <td>2022-01-15</td>\n",
       "      <td>0.183644</td>\n",
       "      <td>0.193600</td>\n",
       "      <td>0.182676</td>\n",
       "      <td>0.185103</td>\n",
       "      <td>1878282290</td>\n",
       "    </tr>\n",
       "    <tr>\n",
       "      <th>1529</th>\n",
       "      <td>2022-01-16</td>\n",
       "      <td>0.185093</td>\n",
       "      <td>0.185093</td>\n",
       "      <td>0.175327</td>\n",
       "      <td>0.177176</td>\n",
       "      <td>1102750171</td>\n",
       "    </tr>\n",
       "    <tr>\n",
       "      <th>1530</th>\n",
       "      <td>2022-01-17</td>\n",
       "      <td>0.177187</td>\n",
       "      <td>0.177872</td>\n",
       "      <td>0.166891</td>\n",
       "      <td>0.171145</td>\n",
       "      <td>1094379303</td>\n",
       "    </tr>\n",
       "    <tr>\n",
       "      <th>1531</th>\n",
       "      <td>2022-01-18</td>\n",
       "      <td>0.171080</td>\n",
       "      <td>0.173651</td>\n",
       "      <td>0.165412</td>\n",
       "      <td>0.166144</td>\n",
       "      <td>1150345216</td>\n",
       "    </tr>\n",
       "  </tbody>\n",
       "</table>\n",
       "</div>"
      ],
      "text/plain": [
       "            Date      Open      High       Low     Close      Volume\n",
       "1527  2022-01-14  0.172053  0.203232  0.171283  0.183549  5784004926\n",
       "1528  2022-01-15  0.183644  0.193600  0.182676  0.185103  1878282290\n",
       "1529  2022-01-16  0.185093  0.185093  0.175327  0.177176  1102750171\n",
       "1530  2022-01-17  0.177187  0.177872  0.166891  0.171145  1094379303\n",
       "1531  2022-01-18  0.171080  0.173651  0.165412  0.166144  1150345216"
      ]
     },
     "execution_count": 4,
     "metadata": {},
     "output_type": "execute_result"
    }
   ],
   "source": [
    "data.tail()"
   ]
  },
  {
   "cell_type": "code",
   "execution_count": 5,
   "id": "013c2d5e",
   "metadata": {},
   "outputs": [
    {
     "data": {
      "text/plain": [
       "Date      False\n",
       "Open      False\n",
       "High      False\n",
       "Low       False\n",
       "Close     False\n",
       "Volume    False\n",
       "dtype: bool"
      ]
     },
     "execution_count": 5,
     "metadata": {},
     "output_type": "execute_result"
    }
   ],
   "source": [
    "data.isnull().any()"
   ]
  },
  {
   "cell_type": "code",
   "execution_count": 6,
   "id": "8d8c9245",
   "metadata": {},
   "outputs": [],
   "source": [
    "X = data['Close']\n",
    "X = np.array(X).reshape(-1,1)"
   ]
  },
  {
   "cell_type": "code",
   "execution_count": 7,
   "id": "a429976c",
   "metadata": {},
   "outputs": [
    {
     "data": {
      "text/plain": [
       "[<matplotlib.lines.Line2D at 0x2258edcd580>]"
      ]
     },
     "execution_count": 7,
     "metadata": {},
     "output_type": "execute_result"
    },
    {
     "data": {
      "image/png": "[encoded data removed]",
      "text/plain": [
       "<Figure size 432x288 with 1 Axes>"
      ]
     },
     "metadata": {
      "needs_background": "light"
     },
     "output_type": "display_data"
    }
   ],
   "source": [
    "plt.plot(X)"
   ]
  },
  {
   "cell_type": "code",
   "execution_count": 8,
   "id": "28db8e99",
   "metadata": {},
   "outputs": [],
   "source": [
    "x_data = []\n",
    "y_data = []\n",
    "column_len = 25\n",
    "for i in range(len(X)-column_len-1):\n",
    "    x_data.append(X[i:i+column_len,0])\n",
    "    y_data.append(X[i+column_len,0])\n",
    "x_data = np.array(x_data)\n",
    "y_data = np.array(y_data)"
   ]
  },
  {
   "cell_type": "markdown",
   "id": "7dbc04f8",
   "metadata": {},
   "source": [
    "For time series analysis we need to create a data set from the given X. So, here for making the data set we’re considering i to i+Nth data as input data and i+N+1th data as output data where i ranging from 0 to total length of data – N."
   ]
  },
  {
   "cell_type": "code",
   "execution_count": 9,
   "id": "09f27083",
   "metadata": {},
   "outputs": [],
   "source": [
    "x_data = []\n",
    "y_data = []\n",
    "column_len = 25\n",
    "for i in range(len(X)-column_len-1):\n",
    "    x_data.append(X[i:i+column_len,0])\n",
    "    y_data.append(X[i+column_len,0])\n",
    "x_data = np.array(x_data)\n",
    "y_data = np.array(y_data)"
   ]
  },
  {
   "cell_type": "markdown",
   "id": "6146ca97",
   "metadata": {},
   "source": [
    " We are using RandomForestRegressor for model creation. So let’s train the model with the dataset."
   ]
  },
  {
   "cell_type": "code",
   "execution_count": 10,
   "id": "8c5ed2ad",
   "metadata": {},
   "outputs": [
    {
     "data": {
      "text/plain": [
       "RandomForestRegressor(n_estimators=200)"
      ]
     },
     "execution_count": 10,
     "metadata": {},
     "output_type": "execute_result"
    }
   ],
   "source": [
    "model = RandomForestRegressor(n_estimators=200)\n",
    "model.fit(x_data, y_data)"
   ]
  },
  {
   "cell_type": "markdown",
   "id": "0b6c2129",
   "metadata": {},
   "source": [
    " Let’s predict the dogecoin price for 10 days starting from the last date given in the dataset."
   ]
  },
  {
   "cell_type": "code",
   "execution_count": 11,
   "id": "0a1c0d0e",
   "metadata": {},
   "outputs": [
    {
     "name": "stdout",
     "output_type": "stream",
     "text": [
      "[[0.17004708]]\n",
      "[[0.17100326]]\n",
      "[[0.1766376]]\n",
      "[[0.17837598]]\n",
      "[[0.17598059]]\n",
      "[[0.17420937]]\n",
      "[[0.17366169]]\n",
      "[[0.17169786]]\n",
      "[[0.16971533]]\n",
      "[[0.1644514]]\n"
     ]
    }
   ],
   "source": [
    "c = X[len(X)-25:]\n",
    "a = 10\n",
    "for _ in range(10):\n",
    "    x = model.predict(c.reshape(1,-1)).reshape(1,-1)\n",
    "    c = np.concatenate((c[1:], x))\n",
    "    print(x)"
   ]
  },
  {
   "cell_type": "markdown",
   "id": "4ba895d1",
   "metadata": {},
   "source": [
    "These are the predicted values of DogeCoin for the next 10 days."
   ]
  },
  {
   "cell_type": "code",
   "execution_count": null,
   "id": "ba203450",
   "metadata": {},
   "outputs": [],
   "source": []
  }
 ],
 "metadata": {
  "kernelspec": {
   "display_name": "Python 3 (ipykernel)",
   "language": "python",
   "name": "python3"
  },
  "language_info": {
   "codemirror_mode": {
    "name": "ipython",
    "version": 3
   },
   "file_extension": ".py",
   "mimetype": "text/x-python",
   "name": "python",
   "nbconvert_exporter": "python",
   "pygments_lexer": "ipython3",
   "version": "3.9.7"
  }
 },
 "nbformat": 4,
 "nbformat_minor": 5
}
